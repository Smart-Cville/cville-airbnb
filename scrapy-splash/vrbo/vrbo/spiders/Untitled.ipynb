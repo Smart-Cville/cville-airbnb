{
 "cells": [
  {
   "cell_type": "code",
   "execution_count": 2,
   "metadata": {},
   "outputs": [],
   "source": [
    "from scrapy import Spider, Request\n",
    "# from airbnb.items import AirbnbItem\n",
    "from scrapy_splash import SplashRequest\n",
    "#from selenium import webdriver\n",
    "import re \n",
    "\n",
    "#################################  IMPORTANT  ################################################\n",
    "# When running this script, need to run this command in the background on a separate terminal:\n",
    "# docker run -p 8050:8050 scrapinghub/splash\n",
    "#################################  IMPORTANT  ################################################"
   ]
  },
  {
   "cell_type": "code",
   "execution_count": null,
   "metadata": {},
   "outputs": [],
   "source": []
  }
 ],
 "metadata": {
  "kernelspec": {
   "display_name": "cville-airbnb",
   "language": "python",
   "name": "cville-airbnb"
  },
  "language_info": {
   "codemirror_mode": {
    "name": "ipython",
    "version": 3
   },
   "file_extension": ".py",
   "mimetype": "text/x-python",
   "name": "python",
   "nbconvert_exporter": "python",
   "pygments_lexer": "ipython3",
   "version": "3.7.5"
  }
 },
 "nbformat": 4,
 "nbformat_minor": 2
}
